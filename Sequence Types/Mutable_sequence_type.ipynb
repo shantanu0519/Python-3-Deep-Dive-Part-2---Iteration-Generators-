{
 "cells": [
  {
   "attachments": {},
   "cell_type": "markdown",
   "metadata": {},
   "source": [
    "### Mutable Sequences\n",
    "This mutates the sequence. The sequence's memory address has not changed, but the internal state of the sequence has.\n"
   ]
  },
  {
   "cell_type": "code",
   "execution_count": 1,
   "metadata": {},
   "outputs": [
    {
     "name": "stdout",
     "output_type": "stream",
     "text": [
      "2546686070536\n",
      "2546686070536 ['a', 2, 3, 4, 5]\n"
     ]
    }
   ],
   "source": [
    "l = [1, 2, 3, 4, 5]\n",
    "print(id(l))\n",
    "l[0] = 'a'\n",
    "print(id(l), l)"
   ]
  },
  {
   "cell_type": "code",
   "execution_count": 2,
   "metadata": {},
   "outputs": [
    {
     "name": "stdout",
     "output_type": "stream",
     "text": [
      "[] ['Spades', 'Hearts', 'Diamonds', 'Clubs']\n"
     ]
    }
   ],
   "source": [
    "# clear method \n",
    "\n",
    "suits = ['Spades', 'Hearts', 'Diamonds', 'Clubs']\n",
    "alias = suits\n",
    "suits = []\n",
    "print(suits, alias)"
   ]
  },
  {
   "cell_type": "code",
   "execution_count": 3,
   "metadata": {},
   "outputs": [
    {
     "name": "stdout",
     "output_type": "stream",
     "text": [
      "[] []\n"
     ]
    }
   ],
   "source": [
    "suits = ['Spades', 'Hearts', 'Diamonds', 'Clubs']\n",
    "alias = suits\n",
    "suits.clear()\n",
    "print(suits, alias)"
   ]
  },
  {
   "cell_type": "code",
   "execution_count": 4,
   "metadata": {},
   "outputs": [
    {
     "name": "stdout",
     "output_type": "stream",
     "text": [
      "2546696890440\n",
      "2546696890440 ['a', 'b', 'c', 'd', 'e', 3, 4, 5]\n"
     ]
    }
   ],
   "source": [
    "# list Extending in simple terms\n",
    "\n",
    "l = [1, 2, 3, 4, 5]\n",
    "print(id(l))\n",
    "l[0:2] = ['a', 'b', 'c', 'd', 'e']\n",
    "print(id(l), l)"
   ]
  },
  {
   "attachments": {},
   "cell_type": "markdown",
   "metadata": {},
   "source": [
    "### Appending and Extending"
   ]
  },
  {
   "cell_type": "code",
   "execution_count": 5,
   "metadata": {},
   "outputs": [
    {
     "name": "stdout",
     "output_type": "stream",
     "text": [
      "2546686326728\n",
      "[1, 2, 3, 4] 2546686326728\n"
     ]
    }
   ],
   "source": [
    "# Append Method \n",
    "l = [1, 2, 3]\n",
    "print(id(l))\n",
    "l.append(4)\n",
    "print(l, id(l))"
   ]
  },
  {
   "cell_type": "code",
   "execution_count": 6,
   "metadata": {},
   "outputs": [
    {
     "name": "stdout",
     "output_type": "stream",
     "text": [
      "2546686329800\n",
      "2546686329800 [1, 2, 3, 4, 5, 'b', 'a', 'c']\n"
     ]
    }
   ],
   "source": [
    "# Extend method \n",
    "l = [1, 2, 3, 4, 5]\n",
    "print(id(l))\n",
    "l.extend({'a', 'b', 'c'})\n",
    "print(id(l), l)"
   ]
  },
  {
   "attachments": {},
   "cell_type": "markdown",
   "metadata": {},
   "source": [
    "### Removing Elements"
   ]
  },
  {
   "cell_type": "code",
   "execution_count": 7,
   "metadata": {},
   "outputs": [
    {
     "name": "stdout",
     "output_type": "stream",
     "text": [
      "2546685604744\n",
      "2546685604744 2 [1, 3, 4]\n"
     ]
    }
   ],
   "source": [
    "l = [1, 2, 3, 4]\n",
    "print(id(l))\n",
    "popped = l.pop(1)\n",
    "print(id(l), popped, l)"
   ]
  },
  {
   "cell_type": "code",
   "execution_count": 8,
   "metadata": {},
   "outputs": [
    {
     "name": "stdout",
     "output_type": "stream",
     "text": [
      "4\n",
      "2546686330568 4 [1, 2, 3]\n"
     ]
    }
   ],
   "source": [
    "# If we do not specify an index for pop, then the last element is popped:\n",
    "\n",
    "l = [1, 2, 3, 4]\n",
    "popped = l.pop()\n",
    "print(popped)\n",
    "print(id(l), popped, l)"
   ]
  },
  {
   "attachments": {},
   "cell_type": "markdown",
   "metadata": {},
   "source": [
    "### Inserting Elements"
   ]
  },
  {
   "cell_type": "code",
   "execution_count": 9,
   "metadata": {},
   "outputs": [
    {
     "name": "stdout",
     "output_type": "stream",
     "text": [
      "2546685809928\n",
      "2546685809928 [1, 'a', 2, 3, 4]\n"
     ]
    }
   ],
   "source": [
    "l = [1, 2, 3, 4]\n",
    "print(id(l))\n",
    "l.insert(1, 'a')\n",
    "print(id(l), l)"
   ]
  },
  {
   "attachments": {},
   "cell_type": "markdown",
   "metadata": {},
   "source": [
    "### Reversing a Sequence"
   ]
  },
  {
   "cell_type": "code",
   "execution_count": 10,
   "metadata": {},
   "outputs": [
    {
     "name": "stdout",
     "output_type": "stream",
     "text": [
      "2546686070472\n",
      "2546686070472 [4, 3, 2, 1]\n"
     ]
    }
   ],
   "source": [
    "l = [1, 2, 3, 4]\n",
    "print(id(l))\n",
    "l.reverse()\n",
    "print(id(l), l)\n"
   ]
  },
  {
   "cell_type": "code",
   "execution_count": 17,
   "metadata": {},
   "outputs": [
    {
     "data": {
      "text/plain": [
       "[4, 3, 2, 1]"
      ]
     },
     "execution_count": 17,
     "metadata": {},
     "output_type": "execute_result"
    }
   ],
   "source": [
    "l = [1, 2, 3, 4]\n",
    "\n",
    "l[::-1]\n"
   ]
  },
  {
   "attachments": {},
   "cell_type": "markdown",
   "metadata": {},
   "source": [
    "### Copying Sequences"
   ]
  },
  {
   "cell_type": "code",
   "execution_count": 18,
   "metadata": {},
   "outputs": [
    {
     "name": "stdout",
     "output_type": "stream",
     "text": [
      "2546685604744\n",
      "2546696891656 [1, 2, 3, 4]\n"
     ]
    }
   ],
   "source": [
    "l = [1, 2, 3, 4]\n",
    "print(id(l))\n",
    "l2 = l.copy()\n",
    "print(id(l2), l2)"
   ]
  },
  {
   "cell_type": "code",
   "execution_count": 19,
   "metadata": {},
   "outputs": [
    {
     "name": "stdout",
     "output_type": "stream",
     "text": [
      "2546686338696\n",
      "2546685604744 [1, 2, 3, 4]\n"
     ]
    }
   ],
   "source": [
    "l = [1, 2, 3, 4]\n",
    "print(id(l))\n",
    "l2 = l[:]\n",
    "print(id(l2), l2)"
   ]
  }
 ],
 "metadata": {
  "kernelspec": {
   "display_name": "Python 3",
   "language": "python",
   "name": "python3"
  },
  "language_info": {
   "codemirror_mode": {
    "name": "ipython",
    "version": 3
   },
   "file_extension": ".py",
   "mimetype": "text/x-python",
   "name": "python",
   "nbconvert_exporter": "python",
   "pygments_lexer": "ipython3",
   "version": "3.7.1"
  },
  "orig_nbformat": 4
 },
 "nbformat": 4,
 "nbformat_minor": 2
}

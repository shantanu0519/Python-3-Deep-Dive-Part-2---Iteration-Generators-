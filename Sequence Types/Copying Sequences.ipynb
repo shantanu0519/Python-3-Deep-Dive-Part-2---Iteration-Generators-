{
 "cells": [
  {
   "attachments": {},
   "cell_type": "markdown",
   "metadata": {},
   "source": [
    "### Shallow Copies"
   ]
  },
  {
   "cell_type": "code",
   "execution_count": 1,
   "metadata": {},
   "outputs": [
    {
     "name": "stdout",
     "output_type": "stream",
     "text": [
      "[1, 2, 3]\n"
     ]
    }
   ],
   "source": [
    "l1 = [1, 2, 3]\n",
    "\n",
    "l1_copy = []\n",
    "for item in l1:\n",
    "    l1_copy.append(item)\n",
    "\n",
    "print(l1_copy)"
   ]
  },
  {
   "cell_type": "code",
   "execution_count": 2,
   "metadata": {},
   "outputs": [
    {
     "data": {
      "text/plain": [
       "False"
      ]
     },
     "execution_count": 2,
     "metadata": {},
     "output_type": "execute_result"
    }
   ],
   "source": [
    "l1 is l1_copy"
   ]
  },
  {
   "cell_type": "code",
   "execution_count": 3,
   "metadata": {},
   "outputs": [
    {
     "name": "stdout",
     "output_type": "stream",
     "text": [
      "[1, 2, 3]\n"
     ]
    }
   ],
   "source": [
    "# Using the copy() method\n",
    "l1 = [1, 2, 3]\n",
    "l1_copy = l1.copy()\n",
    "print(l1_copy)"
   ]
  },
  {
   "cell_type": "code",
   "execution_count": 4,
   "metadata": {},
   "outputs": [
    {
     "name": "stdout",
     "output_type": "stream",
     "text": [
      "(1, 2, 3)\n"
     ]
    }
   ],
   "source": [
    "# In case of tuple\n",
    "t1 = (1, 2, 3)\n",
    "t1_copy = tuple(t1)\n",
    "print(t1_copy)"
   ]
  },
  {
   "cell_type": "code",
   "execution_count": 5,
   "metadata": {},
   "outputs": [
    {
     "data": {
      "text/plain": [
       "True"
      ]
     },
     "execution_count": 5,
     "metadata": {},
     "output_type": "execute_result"
    }
   ],
   "source": [
    "t1 is t1_copy"
   ]
  },
  {
   "cell_type": "code",
   "execution_count": 6,
   "metadata": {},
   "outputs": [
    {
     "name": "stdout",
     "output_type": "stream",
     "text": [
      "[1, 2, 3]\n",
      "False\n"
     ]
    }
   ],
   "source": [
    "# Copying Using Slicing\n",
    "\n",
    "l1 = [1, 2, 3]\n",
    "l1_copy = l1[:]\n",
    "print(l1_copy)\n",
    "print(l1 is l1_copy)"
   ]
  },
  {
   "attachments": {},
   "cell_type": "markdown",
   "metadata": {},
   "source": [
    "### The copy module"
   ]
  },
  {
   "cell_type": "code",
   "execution_count": 7,
   "metadata": {},
   "outputs": [],
   "source": [
    "v1 = [0, 0]\n",
    "v2 = [0, 0]\n",
    "\n",
    "line1 = [v1, v2]"
   ]
  },
  {
   "cell_type": "code",
   "execution_count": 8,
   "metadata": {},
   "outputs": [
    {
     "name": "stdout",
     "output_type": "stream",
     "text": [
      "[[0, 0], [0, 0]]\n",
      "2436902183688 2436912800200\n"
     ]
    }
   ],
   "source": [
    "print(line1)\n",
    "print(id(line1[0]), id(line1[1]))"
   ]
  },
  {
   "cell_type": "code",
   "execution_count": 10,
   "metadata": {},
   "outputs": [
    {
     "data": {
      "text/plain": [
       "False"
      ]
     },
     "execution_count": 10,
     "metadata": {},
     "output_type": "execute_result"
    }
   ],
   "source": [
    "line2 = line1.copy()\n",
    "line1 is line2"
   ]
  },
  {
   "cell_type": "code",
   "execution_count": 11,
   "metadata": {},
   "outputs": [
    {
     "name": "stdout",
     "output_type": "stream",
     "text": [
      "2436902183688 2436912800200\n",
      "2436902183688 2436912800200\n"
     ]
    }
   ],
   "source": [
    "print(id(line1[0]), id(line1[1]))\n",
    "print(id(line2[0]), id(line2[1]))\n",
    "\n",
    "# As you can see above that with shallow copy ,\n",
    "#  the elements with the list have same memory address and that is not good , \n",
    "# because if we change any value then it willl going to affect the original list ."
   ]
  },
  {
   "attachments": {},
   "cell_type": "markdown",
   "metadata": {},
   "source": [
    "The copy module has a deepcopy() function we can use to create deep copies. It handles all kinds of weird situations where we might have circular references - doing it ourselves is certainly possible, but does take some work."
   ]
  },
  {
   "cell_type": "code",
   "execution_count": 14,
   "metadata": {},
   "outputs": [],
   "source": [
    "import copy\n",
    "v1 = [0, 0]\n",
    "v2 = [0, 0]\n",
    "line1 = [v1, v2]"
   ]
  },
  {
   "cell_type": "code",
   "execution_count": 16,
   "metadata": {},
   "outputs": [
    {
     "name": "stdout",
     "output_type": "stream",
     "text": [
      "2436902194312 2436907765640\n",
      "2436912802440 2436902183688\n"
     ]
    }
   ],
   "source": [
    "line2 = copy.deepcopy(line1)\n",
    "print(id(line1[0]), id(line1[1]))\n",
    "print(id(line2[0]), id(line2[1]))\n",
    "\n",
    "# as you can see in above code that we have used deep copy,\n",
    "# so now the memory address of each element is different "
   ]
  }
 ],
 "metadata": {
  "kernelspec": {
   "display_name": "Python 3",
   "language": "python",
   "name": "python3"
  },
  "language_info": {
   "codemirror_mode": {
    "name": "ipython",
    "version": 3
   },
   "file_extension": ".py",
   "mimetype": "text/x-python",
   "name": "python",
   "nbconvert_exporter": "python",
   "pygments_lexer": "ipython3",
   "version": "3.7.1"
  },
  "orig_nbformat": 4
 },
 "nbformat": 4,
 "nbformat_minor": 2
}
